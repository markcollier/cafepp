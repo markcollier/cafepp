{
 "cells": [
  {
   "cell_type": "markdown",
   "metadata": {},
   "source": [
    "# test_lag_lead:testing lag lead operation.\n",
    "\n",
    "# last edited 5 September 2018"
   ]
  },
  {
   "cell_type": "code",
   "execution_count": 5,
   "metadata": {},
   "outputs": [
    {
     "data": {
      "application/javascript": [
       "IPython.OutputArea.prototype._should_scroll = function(lines) {\n",
       "    return false;\n",
       "}"
      ],
      "text/plain": [
       "<IPython.core.display.Javascript object>"
      ]
     },
     "metadata": {},
     "output_type": "display_data"
    }
   ],
   "source": [
    "%%javascript\n",
    "IPython.OutputArea.prototype._should_scroll = function(lines) {\n",
    "    return false;\n",
    "}"
   ]
  },
  {
   "cell_type": "code",
   "execution_count": 8,
   "metadata": {},
   "outputs": [
    {
     "name": "stdout",
     "output_type": "stream",
     "text": [
      "BEGIN\n",
      "\n",
      "#<lagcorr>: Computing lagged-correlations at lags: [-1  0  1]\n",
      "ll= [[-1.  0.]\n",
      " [-1.  0.]\n",
      " [-1.  0.]]\n",
      "END\n"
     ]
    }
   ],
   "source": [
    " print('BEGIN')\n",
    "\n",
    "#https://stackoverflow.com/questions/9382207/specify-lag-in-numpy-correlate\n",
    "\n",
    "def lagcorr(x,y,lag=None,verbose=True):\n",
    "    '''Compute lead-lag correlations between 2 time series.\n",
    "\n",
    "    <x>,<y>: 1-D time series.\n",
    "    <lag>: lag option, could take different forms of <lag>:\n",
    "          if 0 or None, compute ordinary correlation and p-value;\n",
    "          if positive integer, compute lagged correlation with lag\n",
    "          upto <lag>;\n",
    "          if negative integer, compute lead correlation with lead\n",
    "          upto <-lag>;\n",
    "          if pass in an list or tuple or array of integers, compute \n",
    "          lead/lag correlations at different leads/lags.\n",
    "\n",
    "    Note: when talking about lead/lag, uses <y> as a reference.\n",
    "    Therefore positive lag means <x> lags <y> by <lag>, computation is\n",
    "    done by shifting <x> to the left hand side by <lag> with respect to\n",
    "    <y>.\n",
    "    Similarly negative lag means <x> leads <y> by <lag>, computation is\n",
    "    done by shifting <x> to the right hand side by <lag> with respect to\n",
    "    <y>.\n",
    "\n",
    "    Return <result>: a (n*2) array, with 1st column the correlation \n",
    "    coefficients, 2nd column correpsonding p values.\n",
    "\n",
    "    Currently only works for 1-D arrays.\n",
    "    '''\n",
    "\n",
    "    import numpy\n",
    "    from scipy.stats import pearsonr\n",
    "\n",
    "    if len(x)!=len(y):\n",
    "        raise('Input variables of different lengths.')\n",
    "\n",
    "    #--------Unify types of <lag>-------------\n",
    "    if numpy.isscalar(lag):\n",
    "        if abs(lag)>=len(x):\n",
    "            raise('Maximum lag equal or larger than array.')\n",
    "        if lag<0:\n",
    "            lag=-numpy.arange(abs(lag)+1)\n",
    "        elif lag==0:\n",
    "            lag=[0,]\n",
    "        else:\n",
    "            lag=numpy.arange(lag+1)    \n",
    "    elif lag is None:\n",
    "        lag=[0,]\n",
    "    else:\n",
    "        lag=numpy.asarray(lag)\n",
    "\n",
    "    #-------Loop over lags---------------------\n",
    "    result=[]\n",
    "    if verbose:\n",
    "        print('\\n#<lagcorr>: Computing lagged-correlations at lags:',lag)\n",
    "\n",
    "    for ii in lag:\n",
    "        if ii<0:\n",
    "            result.append(pearsonr(x[:ii],y[-ii:]))\n",
    "        elif ii==0:\n",
    "            result.append(pearsonr(x,y))\n",
    "        elif ii>0:\n",
    "            result.append(pearsonr(x[ii:],y[:-ii]))\n",
    "\n",
    "    result=numpy.asarray(result)\n",
    "\n",
    "    return result\n",
    "\n",
    "#===============================================================================\n",
    "\n",
    "x=[1,2,3,4,5]\n",
    "y=[5,4,3,2,1]\n",
    "\n",
    "lag=0\n",
    "\n",
    "lag=[-1,0,1]\n",
    "\n",
    "ll=lagcorr(x, y, lag=lag, verbose=True)\n",
    "\n",
    "print('ll=',ll)\n",
    "\n",
    "print('END')"
   ]
  },
  {
   "cell_type": "code",
   "execution_count": null,
   "metadata": {},
   "outputs": [],
   "source": []
  }
 ],
 "metadata": {
  "kernelspec": {
   "display_name": "Python 3",
   "language": "python",
   "name": "python3"
  },
  "language_info": {
   "codemirror_mode": {
    "name": "ipython",
    "version": 3
   },
   "file_extension": ".py",
   "mimetype": "text/x-python",
   "name": "python",
   "nbconvert_exporter": "python",
   "pygments_lexer": "ipython3",
   "version": "3.6.6"
  }
 },
 "nbformat": 4,
 "nbformat_minor": 2
}
