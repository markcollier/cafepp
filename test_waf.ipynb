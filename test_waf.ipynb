{
 "cells": [
  {
   "cell_type": "markdown",
   "metadata": {},
   "source": [
    "# waf\n",
    "\n",
    "help(wsh.xarray.VectorWind)"
   ]
  },
  {
   "cell_type": "code",
   "execution_count": 7,
   "metadata": {},
   "outputs": [
    {
     "data": {
      "application/javascript": [
       "IPython.OutputArea.prototype._should_scroll = function(lines) {\n",
       "    return false;\n",
       "}"
      ],
      "text/plain": [
       "<IPython.core.display.Javascript object>"
      ]
     },
     "metadata": {},
     "output_type": "display_data"
    }
   ],
   "source": [
    "%%javascript\n",
    "IPython.OutputArea.prototype._should_scroll = function(lines) {\n",
    "    return false;\n",
    "}"
   ]
  },
  {
   "cell_type": "code",
   "execution_count": 2,
   "metadata": {},
   "outputs": [
    {
     "name": "stdout",
     "output_type": "stream",
     "text": [
      "BEGIN\n",
      "sys.version= 3.6.6 |Anaconda, Inc.| (default, Jun 28 2018, 17:14:51) \n",
      "[GCC 7.2.0]\n",
      "hostname= oa-35-cdc\n",
      "this is vm32\n",
      "Current Working Directory= /OSM/CBR/OA_DCFP/work/col414/cafepp\n",
      "Current Working Directory= /OSM/CBR/OA_DCFP/work/squ027/doppyo/doppyo\n",
      "END\n"
     ]
    }
   ],
   "source": [
    "print('BEGIN')\n",
    "\n",
    "import socket\n",
    "import re\n",
    "import os\n",
    "import sys\n",
    "import inspect\n",
    "import pickle\n",
    "import glob\n",
    "#import sort\n",
    "import datetime\n",
    "import socket\n",
    "import re\n",
    "import os\n",
    "import sys\n",
    "import netCDF4\n",
    "import math\n",
    "\n",
    "print('sys.version=',sys.version)\n",
    "\n",
    "hostname=socket.gethostname()\n",
    "\n",
    "print('hostname=',hostname)\n",
    "\n",
    "if(re.match('raijin',hostname)):\n",
    "  print('this is rajin')\n",
    "  rundir='/short/v14/mac599/cafepp/rundir'\n",
    "  topdir=''\n",
    "elif(re.match('oa-3.-cdc',hostname)):\n",
    "  print('this is vm32')\n",
    "  rundir='/OSM/CBR/OA_DCFP/work/col414/cafepp'\n",
    "  topdir='/OSM/CBR/OA_DCFP/data/CAFEPP/CMIP6'\n",
    "  topdir='/OSM/CBR/OA_DCFP/work/col414/CAFEPP/CMIP6'\n",
    "  topdir_vm='/OSM/CBR/OA_DCFP/data/CAFEPP'\n",
    "  topdir_vm='/OSM/CBR/OA_DCFP/work/col414/CAFEPP'\n",
    "  \n",
    "os.chdir(rundir)\n",
    "\n",
    "os.chdir('/OSM/CBR/OA_DCFP/work/col414/cafepp')\n",
    "\n",
    "print('Current Working Directory=',os.getcwd())\n",
    "\n",
    "__file__='jupyter_notebook' #this can be deleted when written to a python script and loaded as module.\n",
    "\n",
    "import cartopy.crs as ccrs\n",
    "from cartopy.util import add_cyclic_point\n",
    "import numpy as np\n",
    "import numpy.ma as ma\n",
    "from matplotlib.mlab import griddata\n",
    "from scipy import signal\n",
    "from matplotlib import pyplot as plt\n",
    "from PyAstronomy import pyaC\n",
    "import xarray as xr\n",
    "import windspharm as wsh\n",
    "import pandas as pd\n",
    "\n",
    "from decadal_diag import \\\n",
    "  fractional_year_from_num2date, \\\n",
    "  generate_daily_month_indices, \\\n",
    "  shade_2d_latlon, \\\n",
    "  get_timestamp_number, \\\n",
    "  shade_2d_curvilinear, \\\n",
    "  shade_2d_simple, \\\n",
    "  nino_indices, \\\n",
    "  plot_xy, \\\n",
    "  fractional_year_from_num2date, \\\n",
    "  convert_bytes, \\\n",
    "  file_size, \\\n",
    "  compress_nc, \\\n",
    "  prepare_vertintp, \\\n",
    "  get_exitcode_stdout_stderr, \\\n",
    "  box_indices, \\\n",
    "  plot_box_indices, \\\n",
    "  basic_stats, \\\n",
    "  lagcorr, \\\n",
    "  turning_points, \\\n",
    "  plot_bar\n",
    "  \n",
    "from other import year_fraction\n",
    "\n",
    "from n_data_funcs import n_data_funcs\n",
    "\n",
    "from doppyo import skill\n",
    "from doppyo import utils\n",
    "from doppyo import diagnostic\n",
    "\n",
    "os.chdir('/OSM/CBR/OA_DCFP/work/squ027/doppyo/doppyo')\n",
    "\n",
    "print('Current Working Directory=',os.getcwd())\n",
    "\n",
    "cafe_experiment_titles = {1:'v0_forecast', 4:'v1_forecast', 3:'v2_forecast', 9:'v1', \\\n",
    "  5:'v2', 6:'v3', 7:'aug17p', 2:'v1_assim', 10:'etkf', 11:'nov17n', 12:'jul18b', 13:'v0'}\n",
    "\n",
    "fluxes_colors={'hfls':'red', 'hfss':'blue', 'rlds':'green', 'rlus':'orange', \\\n",
    "               'rlut':'pink', 'rsdt':'brown', 'rsus':'cyan', 'rsds':'purple', 'rsut':'grey', \\\n",
    "              'net down toa':'tan', 'net down surf':'yellow'}\n",
    "\n",
    "%matplotlib inline\n",
    "\n",
    "CRED = '\\033[91m'\n",
    "CEND = '\\033[0m'\n",
    "\n",
    "#print(cafe_experiment_titles[1])\n",
    "\n",
    "print('END')"
   ]
  },
  {
   "cell_type": "code",
   "execution_count": 9,
   "metadata": {},
   "outputs": [
    {
     "data": {
      "text/plain": [
       "<xarray.DataArray 'phi' (lat: 6, lon: 4)>\n",
       "array([[  785062.9 ,   785062.9 ,   785062.9 ,   785062.9 ],\n",
       "       [  775151.5 ,   831175.1 ,  1032900.25,   976876.6 ],\n",
       "       [ -501071.3 ,   317162.38,   614048.5 ,  -204185.12],\n",
       "       [ -887251.56,   735306.6 ,    11376.75, -1611181.4 ],\n",
       "       [ -238267.38,  -319824.62,  -340628.88,  -259071.62],\n",
       "       [ -613033.  ,  -613033.  ,  -613033.  ,  -613033.  ]], dtype=float32)\n",
       "Coordinates:\n",
       "  * lat      (lat) int64 75 45 15 -15 -45 -75\n",
       "  * lon      (lon) int64 45 135 225 315\n",
       "Attributes:\n",
       "    units:          m**2 s**-1\n",
       "    standard_name:  atmosphere_horizontal_velocity_potential\n",
       "    long_name:      velocity potential"
      ]
     },
     "execution_count": 9,
     "metadata": {},
     "output_type": "execute_result"
    }
   ],
   "source": [
    "u = xr.DataArray(np.random.normal(size=(6,4)), \\\n",
    "  coords=[('lat', np.arange(-75,76,30)), ('lon', np.arange(45,316,90))])\n",
    "v = xr.DataArray(np.random.normal(size=(6,4)), \\\n",
    "  coords=[('lat', np.arange(-75,76,30)), ('lon', np.arange(45,316,90))])\n",
    "diagnostic.velocity_potential(u, v)\n"
   ]
  },
  {
   "cell_type": "code",
   "execution_count": 16,
   "metadata": {},
   "outputs": [
    {
     "name": "stdout",
     "output_type": "stream",
     "text": [
      "u_clim.shape= (6, 4, 2, 12)\n",
      "u_clim= <xarray.DataArray (lat: 6, lon: 4, level: 2, month: 12)>\n",
      "array([[[[ 0.555334, ...,  0.15984 ],\n",
      "         [ 0.468287, ..., -0.994917]],\n",
      "\n",
      "        ...,\n",
      "\n",
      "        [[-0.452323, ..., -0.615794],\n",
      "         [-0.221831, ...,  0.391634]]],\n",
      "\n",
      "\n",
      "       ...,\n",
      "\n",
      "\n",
      "       [[[-0.879602, ..., -1.317467],\n",
      "         [ 0.774172, ...,  0.238517]],\n",
      "\n",
      "        ...,\n",
      "\n",
      "        [[ 1.133758, ..., -0.750029],\n",
      "         [ 0.580929, ...,  0.023616]]]])\n",
      "Coordinates:\n",
      "  * lat      (lat) int64 -75 -45 -15 15 45 75\n",
      "  * lon      (lon) int64 45 135 225 315\n",
      "  * level    (level) int64 100 500\n",
      "  * month    (month) int64 1 2 3 4 5 6 7 8 9 10 11 12\n",
      "w= <windspharm.xarray.VectorWind object at 0x7ff547e07c88>\n",
      "out= <xarray.Dataset>\n",
      "Dimensions:  (lat: 6, level: 2, lon: 4, time: 24)\n",
      "Coordinates:\n",
      "  * level    (level) int64 100 500\n",
      "  * lat      (lat) int64 -75 -45 -15 15 45 75\n",
      "  * lon      (lon) int64 45 135 225 315\n",
      "  * time     (time) datetime64[ns] 2000-01-31 2000-02-29 ... 2001-12-31\n",
      "Data variables:\n",
      "    u_waf    (level, lat, lon, time) float64 0.009147 0.01048 ... -0.1127 0.1166\n",
      "    v_waf    (level, lat, lon, time) float64 -0.03307 -0.00393 ... -0.1091\n",
      "END\n"
     ]
    }
   ],
   "source": [
    "u = xr.DataArray(np.random.normal(size=(6,4,2,24)), \\\n",
    "  coords=[('lat', np.arange(-75,76,30)), ('lon', np.arange(45,316,90)), \\\n",
    "  ('level', [100,500]), \n",
    "  ('time', pd.date_range('2000-01-01',periods=24,freq='M'))])\n",
    "v = xr.DataArray(np.random.normal(size=(6,4,2,24)), \\\n",
    "  coords=[('lat', np.arange(-75,76,30)), ('lon', np.arange(45,316,90)), \\\n",
    "  ('level', [100,500]), \\\n",
    "  ('time', pd.date_range('2000-01-01',periods=24,freq='M'))])\n",
    "u_clim = u.groupby('time.month').mean(dim='time')\n",
    "v_clim = v.groupby('time.month').mean(dim='time')\n",
    "\n",
    "print('u_clim.shape=',u_clim.shape)\n",
    "print('u_clim=',u_clim)\n",
    "\n",
    "u_anom = utils.anomalize(u, u_clim)\n",
    "v_anom = utils.anomalize(v, v_clim)\n",
    "psi_anom = diagnostic.stream_function(u_anom, v_anom)\n",
    "out = diagnostic.wave_activity_flux(psi_anom, u, v)\n",
    "\n",
    "print('out=',out)\n",
    "\n",
    "print('END')"
   ]
  },
  {
   "cell_type": "code",
   "execution_count": null,
   "metadata": {},
   "outputs": [],
   "source": [
    "u = xr.DataArray(np.random.normal(size=(6,4)), \\\n",
    "  coords=[('lat', np.arange(-75,76,30)), ('lon', np.arange(45,316,90))])\n",
    "v = xr.DataArray(np.random.normal(size=(6,4)), \\\n",
    "  coords=[('lat', np.arange(-75,76,30)), ('lon', np.arange(45,316,90))])\n",
    "out = diagnostic.Rossby_wave_source(u, v)\n",
    "\n",
    "print('out=',out)\n",
    "\n",
    "print('END')"
   ]
  },
  {
   "cell_type": "code",
   "execution_count": 6,
   "metadata": {},
   "outputs": [
    {
     "name": "stdout",
     "output_type": "stream",
     "text": [
      "w= <windspharm.xarray.VectorWind object at 0x7ff584f6f908>\n",
      "data= <xarray.Dataset>\n",
      "Dimensions:  (lat: 6, level: 2, lon: 4, time: 24)\n",
      "Coordinates:\n",
      "  * level    (level) int64 100 500\n",
      "  * lat      (lat) int64 -75 -45 -15 15 45 75\n",
      "  * lon      (lon) int64 45 135 225 315\n",
      "  * time     (time) datetime64[ns] 2000-01-31 2000-02-29 ... 2001-12-31\n",
      "Data variables:\n",
      "    u_waf    (level, lat, lon, time) float64 0.008912 0.002964 ... 0.165 -0.0359\n",
      "    v_waf    (level, lat, lon, time) float64 -0.0025 0.01668 ... 0.003272\n",
      "END\n"
     ]
    }
   ],
   "source": [
    "u = xr.DataArray(np.random.normal(size=(6,4,2,24)), \\\n",
    "  coords=[('lat', np.arange(-75,76,30)), ('lon', np.arange(45,316,90)), \\\n",
    "  ('level', [100,500]), \\\n",
    "  ('time', pd.date_range('2000-01-01',periods=24,freq='M'))])\n",
    "v = xr.DataArray(np.random.normal(size=(6,4,2,24)), \\\n",
    "  coords=[('lat', np.arange(-75,76,30)), ('lon', np.arange(45,316,90)), \\\n",
    "  ('level', [100,500]), \\\n",
    "  ('time', pd.date_range('2000-01-01',periods=24,freq='M'))])\n",
    "u_clim = u.groupby('time.month').mean(dim='time')\n",
    "v_clim = v.groupby('time.month').mean(dim='time')\n",
    "u_anom = utils.anomalize(u, u_clim)\n",
    "v_anom = utils.anomalize(v, v_clim)\n",
    "psi_anom = diagnostic.stream_function(u_anom, v_anom)\n",
    "data=diagnostic.wave_activity_flux(psi_anom, u, v)\n",
    "\n",
    "print('data=',data)\n",
    "\n",
    "print('END')"
   ]
  },
  {
   "cell_type": "code",
   "execution_count": 3,
   "metadata": {},
   "outputs": [
    {
     "name": "stdout",
     "output_type": "stream",
     "text": [
      "<xarray.DataArray 'ks2' (lat: 6, lon: 4, time: 24)>\n",
      "array([[[ 6.238878e+00, -1.079475e+00, ..., -1.304777e+00, -2.375866e-01],\n",
      "        [ 4.370043e-01,  4.256758e+00, ...,  3.225474e-01, -2.578716e+01],\n",
      "        [ 1.077790e+00,  2.937898e+00, ..., -5.718076e-01,  1.147554e-01],\n",
      "        [-4.034708e-01,  7.197462e+00, ...,  4.871033e+01,  1.699499e+00]],\n",
      "\n",
      "       [[-8.343896e+02, -8.254493e+02, ..., -5.613415e+02, -2.169745e+03],\n",
      "        [ 1.084508e+03, -6.348874e+02, ...,  1.906387e+02, -7.279070e+02],\n",
      "        [ 9.110567e+02, -7.194693e+02, ...,  3.255692e+02, -2.988381e+02],\n",
      "        [-4.561224e+02,  6.642433e+02, ..., -5.895170e+02,  2.701369e+03]],\n",
      "\n",
      "       ...,\n",
      "\n",
      "       [[-3.676990e+03,  3.309632e+02, ...,  4.501356e+03,  7.693665e+02],\n",
      "        [-3.730192e+02,  1.023825e+03, ..., -1.252109e+04, -2.930880e+02],\n",
      "        [ 1.262031e+03, -1.949834e+03, ..., -1.288571e+04, -2.729175e+02],\n",
      "        [-4.832188e+02,  3.634579e+03, ..., -1.077926e+03,  4.754549e+02]],\n",
      "\n",
      "       [[-7.460437e+00, -5.881396e-01, ..., -1.198535e-01,  1.299118e+00],\n",
      "        [ 1.819298e-01, -3.841056e-01, ..., -1.286545e+00,  9.538641e-01],\n",
      "        [-3.928110e-01,  1.636062e-01, ...,  7.792308e-01, -1.697739e+00],\n",
      "        [ 3.765948e-01,  8.116731e-01, ...,  3.917754e+00,  3.963210e+00]]])\n",
      "Coordinates:\n",
      "  * lat      (lat) int64 75 45 15 -15 -45 -75\n",
      "  * lon      (lon) int64 45 135 225 315\n",
      "  * time     (time) datetime64[ns] 2000-01-31 2000-02-29 ... 2001-12-31\n",
      "Attributes:\n",
      "    units:      real number\n",
      "    long_name:  Square of Rossby stationary wavenumber\n",
      "END\n"
     ]
    }
   ],
   "source": [
    "u = xr.DataArray(np.random.normal(size=(6,4,24)), \\\n",
    "  coords=[('lat', np.arange(-75,76,30)), ('lon', np.arange(45,316,90)), \\\n",
    "  ('time', pd.date_range('2000-01-01',periods=24,freq='M'))])\n",
    "v = xr.DataArray(np.random.normal(size=(6,4,24)), \\\n",
    "  coords=[('lat', np.arange(-75,76,30)), ('lon', np.arange(45,316,90)), \\\n",
    "  ('time', pd.date_range('2000-01-01',periods=24,freq='M'))])\n",
    "u_clim = u.groupby('time.month').mean(dim='time')\n",
    "u_clim = utils.anomalize(0*u, -u_clim)\n",
    "print(diagnostic.Rossby_wave_number(u, v, u_clim))\n",
    "\n",
    "print('END')"
   ]
  },
  {
   "cell_type": "code",
   "execution_count": null,
   "metadata": {},
   "outputs": [],
   "source": [
    "u = xr.DataArray(np.random.normal(size=(6,4,2)), \\\n",
    "  coords=[('lat', np.arange(-75,76,30)), ('lon', np.arange(45,316,90)), \\\n",
    "  ('level', [200, 500])])\n",
    "v = xr.DataArray(np.random.normal(size=(6,4,2)), \\\n",
    "  coords=[('lat', np.arange(-75,76,30)), ('lon', np.arange(45,316,90)), \\\n",
    "  ('level', [200, 500])])\n",
    "temp = xr.DataArray(np.random.normal(size=(6,4,2)), \\\n",
    "  coords=[('lat', np.arange(-75,76,30)), ('lon', np.arange(45,316,90)), \\\n",
    "  ('level', [200, 500])])\n",
    "gh = xr.DataArray(np.random.normal(size=(6,4,2)), \\\n",
    "coords=[('lat', np.arange(-75,76,30)), ('lon', np.arange(45,316,90)), \\\n",
    "('level', [200, 500])])\n",
    "nsq = diagnostic.Brunt_Vaisala(temp)\n",
    "print(diagnostic.Eady_growth_rate(u, v, gh, nsq))\n",
    "\n",
    "print('END')"
   ]
  },
  {
   "cell_type": "code",
   "execution_count": null,
   "metadata": {},
   "outputs": [],
   "source": [
    "gh = xr.DataArray(np.random.normal(size=(3,4,4)), \\\n",
    "coords=[('level', [400, 500, 600]), ('lat', np.arange(-90,90,45)), \\\n",
    "('lon', np.arange(0,360,90))])\n",
    "print(diagnostic.thermal_wind(gh, plevel_lower=400, plevel_upper=600))\n",
    "\n",
    "print('END')"
   ]
  },
  {
   "cell_type": "code",
   "execution_count": null,
   "metadata": {},
   "outputs": [],
   "source": [
    "v = xr.DataArray(np.random.normal(size=(2,4,4)), \\\n",
    "  coords=[('level', [400, 600]), ('lat', np.arange(-90,90,45)), \\\n",
    "  ('lon', np.arange(0,360,90))])\n",
    "\n",
    "print(diagnostic.mean_merid_mass_streamfunction(v))\n",
    "\n",
    "print('END')"
   ]
  },
  {
   "cell_type": "code",
   "execution_count": null,
   "metadata": {},
   "outputs": [],
   "source": []
  }
 ],
 "metadata": {
  "kernelspec": {
   "display_name": "Python 3",
   "language": "python",
   "name": "python3"
  },
  "language_info": {
   "codemirror_mode": {
    "name": "ipython",
    "version": 3
   },
   "file_extension": ".py",
   "mimetype": "text/x-python",
   "name": "python",
   "nbconvert_exporter": "python",
   "pygments_lexer": "ipython3",
   "version": "3.6.6"
  }
 },
 "nbformat": 4,
 "nbformat_minor": 2
}
