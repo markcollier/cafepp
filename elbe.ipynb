{
 "cells": [
  {
   "cell_type": "markdown",
   "metadata": {},
   "source": [
    "# elbe\n",
    "\n",
    "https://blog.mariokrapp.com/\n",
    "\n",
    "# last edited 24 September 2018"
   ]
  },
  {
   "cell_type": "code",
   "execution_count": null,
   "metadata": {},
   "outputs": [],
   "source": [
    "%%javascript\n",
    "IPython.OutputArea.prototype._should_scroll = function(lines) {\n",
    "    return false;\n",
    "}"
   ]
  },
  {
   "cell_type": "code",
   "execution_count": 6,
   "metadata": {},
   "outputs": [
    {
     "name": "stdout",
     "output_type": "stream",
     "text": [
      "BEGIN\n",
      "hostname= oa-32-cdc\n",
      "this is vm32\n",
      "Current Working Directory= /OSM/CBR/OA_DCFP/work/col414/cafepp\n",
      "END\n"
     ]
    }
   ],
   "source": [
    "print('BEGIN')\n",
    "\n",
    "%matplotlib inline\n",
    "\n",
    "__file__='jupyter_notebook' #this can be deleted when written to a python script and loaded as module.\n",
    "\n",
    "# import numpy as np\n",
    "# import numpy.ma as ma\n",
    "# import inspect\n",
    "# import pickle\n",
    "# import bz2\n",
    "# import glob\n",
    "import socket\n",
    "import re\n",
    "import os\n",
    "# import scipy.stats as st\n",
    "# import matplotlib.pyplot as plt\n",
    "# import math\n",
    "\n",
    "import matplotlib.pyplot as plt\n",
    "import pandas as pd\n",
    "import numpy as np\n",
    "from scipy import stats\n",
    "import sys\n",
    "import matplotlib\n",
    "from matplotlib.ticker import ScalarFormatter, FormatStrFormatter, FixedLocator\n",
    "\n",
    "CRED = '\\033[91m'\n",
    "CEND = '\\033[0m'\n",
    "\n",
    "hostname=socket.gethostname()\n",
    "\n",
    "print('hostname=',hostname)\n",
    "\n",
    "if(re.match('raijin',hostname)):\n",
    "  print('this is rajin')\n",
    "  rundir='/short/v14/mac599/cafepp/rundir'\n",
    "  topdir=''\n",
    "elif(re.match('oa-3.-cdc',hostname)):\n",
    "  print('this is vm32')\n",
    "  rundir='/OSM/CBR/OA_DCFP/work/col414/cafepp'\n",
    "  topdir='/OSM/CBR/OA_DCFP/data/CAFEPP/CMIP6'\n",
    "\n",
    "os.chdir(rundir)\n",
    "\n",
    "os.chdir('/OSM/CBR/OA_DCFP/work/col414/cafepp')\n",
    "\n",
    "print('Current Working Directory=',os.getcwd())\n",
    "\n",
    "# from n_data_funcs import n_data_funcs\n",
    "\n",
    "# from decadal_diag import \\\n",
    "#   box_indices, \\\n",
    "#   diag_isothetaoNc, \\\n",
    "#   calc_isoN, \\\n",
    "#   shade_2d_latlon, \\\n",
    "#   shade_2d_simple, \\\n",
    "#   smooth, \\\n",
    "#   plot_xy, \\\n",
    "#   plot_box_indices, \\\n",
    "#   nino_indices, \\\n",
    "#   plot_2d_scatter, \\\n",
    "#   lagcorr, \\\n",
    "#   file_sort_ripf, \\\n",
    "#   file_spec_summary\n",
    "\n",
    "# model='SODA'\n",
    "\n",
    "print('END')"
   ]
  },
  {
   "cell_type": "code",
   "execution_count": null,
   "metadata": {},
   "outputs": [],
   "source": []
  }
 ],
 "metadata": {
  "kernelspec": {
   "display_name": "Python 3",
   "language": "python",
   "name": "python3"
  },
  "language_info": {
   "codemirror_mode": {
    "name": "ipython",
    "version": 3
   },
   "file_extension": ".py",
   "mimetype": "text/x-python",
   "name": "python",
   "nbconvert_exporter": "python",
   "pygments_lexer": "ipython3",
   "version": "3.6.6"
  }
 },
 "nbformat": 4,
 "nbformat_minor": 2
}
