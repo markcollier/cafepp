{
 "cells": [
  {
   "cell_type": "markdown",
   "metadata": {},
   "source": [
    "# Interpolation of f1 CAFE hybrid levels to isobaric levels\n",
    "### NOTE: must run `ulimit -s unlimited` prior to running this notebook"
   ]
  },
  {
   "cell_type": "code",
   "execution_count": 1,
   "metadata": {
    "ExecuteTime": {
     "end_time": "2018-08-17T00:45:02.258673Z",
     "start_time": "2018-08-17T00:45:00.596090Z"
    }
   },
   "outputs": [],
   "source": [
    "import glob\n",
    "import subprocess\n",
    "import itertools\n",
    "import xarray as xr\n",
    "import numpy as np\n",
    "import time"
   ]
  },
  {
   "cell_type": "markdown",
   "metadata": {},
   "source": [
    "## Location of cafe grid info"
   ]
  },
  {
   "cell_type": "code",
   "execution_count": 2,
   "metadata": {
    "ExecuteTime": {
     "end_time": "2018-08-17T00:45:02.264921Z",
     "start_time": "2018-08-17T00:45:02.261784Z"
    }
   },
   "outputs": [],
   "source": [
    "cafe_grid_info = '/OSM/CBR/OA_DCFP/work/squ027/squire_scratch/projects/cafe_hybrid_to_isobaric/shared/cafe_grid_info.nc3.nc '"
   ]
  },
  {
   "cell_type": "markdown",
   "metadata": {},
   "source": [
    "## Get list of files to convert"
   ]
  },
  {
   "cell_type": "code",
   "execution_count": 3,
   "metadata": {
    "ExecuteTime": {
     "end_time": "2018-08-17T00:45:10.128777Z",
     "start_time": "2018-08-17T00:45:02.267598Z"
    }
   },
   "outputs": [],
   "source": [
    "years = np.arange(2002,2017)\n",
    "months = np.arange(1,13)\n",
    "ensembles = np.arange(1,12)\n",
    "folder = '/OSM/CBR/OA_DCFP/data/model_output/CAFE/forecasts/v1/'\n",
    "files = 'atmos_daily*01.nc'\n",
    "\n",
    "filelist = []\n",
    "for year, month, ensemble in itertools.product(years, months, ensembles):\n",
    "    filelist.append(sorted(glob.glob(folder + 'yr' + str(year) \n",
    "                                            + '/mn' + str(month) \n",
    "                                            + '/OUTPUT.' + str(ensemble) \n",
    "                                            + '/' + files)))\n",
    "\n",
    "filelist = list(itertools.chain.from_iterable(filelist))"
   ]
  },
  {
   "cell_type": "markdown",
   "metadata": {},
   "source": [
    "## Levels to interpolate to"
   ]
  },
  {
   "cell_type": "code",
   "execution_count": 4,
   "metadata": {
    "ExecuteTime": {
     "end_time": "2018-08-17T00:45:10.135312Z",
     "start_time": "2018-08-17T00:45:10.131781Z"
    }
   },
   "outputs": [],
   "source": [
    "levels = [20000, 30000, 40000, 45000, 50000, 55000, 60000, 70000, 85000, 100000]"
   ]
  },
  {
   "cell_type": "markdown",
   "metadata": {},
   "source": [
    "## Loop over each file and interpolate"
   ]
  },
  {
   "cell_type": "code",
   "execution_count": null,
   "metadata": {
    "ExecuteTime": {
     "start_time": "2018-08-17T00:45:15.204Z"
    },
    "scrolled": true
   },
   "outputs": [],
   "source": [
    "for file in filelist:\n",
    "    \n",
    "    # Add ak and bk fields to atmospheric output files -----\n",
    "    command = '/apps/nco/4.4.4/bin/ncks -A -v ak,bk,zsurf ' + cafe_grid_info + file\n",
    "    out = subprocess.call(command, shell=True)\n",
    "    if (out != 0) & (out != 1):\n",
    "        print('Failed to add alphas and betas:')\n",
    "        print(file, '\\n')\n",
    "        \n",
    "    time.sleep(1.0) \n",
    "    \n",
    "    # Rename ak with pk as required by PLEV executable -----\n",
    "    command = '/apps/nco/4.4.4/bin/ncrename -v ak,pk ' + file\n",
    "    out = subprocess.call(command, shell=True)\n",
    "    if (out != 0) & (out != 1):\n",
    "        print('Failed to rename alpha:')\n",
    "        print(file, '\\n')\n",
    "        \n",
    "    # Delete old plevel file if it exists -----\n",
    "    command = 'rm -r ' + file[:file.index('.nc')] + '.plevel' + file[file.index('.nc'):]\n",
    "    out = subprocess.call(command, shell=True)\n",
    "        \n",
    "    time.sleep(1.0) \n",
    "    \n",
    "    # Perform the interpolation -----\n",
    "    command = './plevel.sh -a -i ' + file + \\\n",
    "              ' -o ' + file[:file.index('.nc')] + '.tmp' + file[file.index('.nc'):] + \\\n",
    "              ' -p ' + '\"' + ' '.join(map(str, levels)) + '\"' + \\\n",
    "              ' hght'\n",
    "    out = subprocess.call(command, shell=True)\n",
    "    if (out != 0) & (out != 1):\n",
    "        print(f'Regridding failed, error {out}:')\n",
    "        print(file, '\\n')\n",
    "    \n",
    "    time.sleep(1.0) \n",
    "    \n",
    "    # Convert to netcdf-4 -----\n",
    "    command = 'ncks -4 -L 1 ' + file[:file.index('.nc')] + '.tmp' + file[file.index('.nc'):] + ' ' \\\n",
    "                              + file[:file.index('.nc')] + '.plevel' + file[file.index('.nc'):]\n",
    "    out = subprocess.call(command, shell=True)\n",
    "    if (out != 0) & (out != 1):\n",
    "        print('Failed to convert to netcdf-4:')\n",
    "        print(file, '\\n')\n",
    "    \n",
    "    time.sleep(1.0) \n",
    "        \n",
    "    # Delete temporary file -----\n",
    "    command = 'rm -r ' + file[:file.index('.nc')] + '.tmp' + file[file.index('.nc'):]\n",
    "    out = subprocess.call(command, shell=True)"
   ]
  },
  {
   "cell_type": "code",
   "execution_count": null,
   "metadata": {},
   "outputs": [],
   "source": []
  }
 ],
 "metadata": {
  "kernelspec": {
   "display_name": "Python [default]",
   "language": "python",
   "name": "python3"
  },
  "language_info": {
   "codemirror_mode": {
    "name": "ipython",
    "version": 3
   },
   "file_extension": ".py",
   "mimetype": "text/x-python",
   "name": "python",
   "nbconvert_exporter": "python",
   "pygments_lexer": "ipython3",
   "version": "3.6.6"
  }
 },
 "nbformat": 4,
 "nbformat_minor": 2
}
