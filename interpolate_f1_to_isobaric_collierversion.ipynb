{
 "cells": [
  {
   "cell_type": "markdown",
   "metadata": {},
   "source": [
    "# Interpolation of f1 CAFE hybrid levels to isobaric levels\n",
    "### NOTE: must run `ulimit -s unlimited` prior to running this notebook\n",
    "\n",
    "https://pythonadventures.wordpress.com/2014/01/08/capture-the-exit-code-the-stdout-and-the-stderr-of-an-external-command/"
   ]
  },
  {
   "cell_type": "code",
   "execution_count": 6,
   "metadata": {
    "ExecuteTime": {
     "end_time": "2018-08-17T00:45:02.258673Z",
     "start_time": "2018-08-17T00:45:00.596090Z"
    }
   },
   "outputs": [],
   "source": [
    "import glob\n",
    "import subprocess\n",
    "import itertools\n",
    "#import xarray as xr\n",
    "import numpy as np\n",
    "import time"
   ]
  },
  {
   "cell_type": "markdown",
   "metadata": {},
   "source": [
    "## Location of cafe grid info"
   ]
  },
  {
   "cell_type": "code",
   "execution_count": 7,
   "metadata": {
    "ExecuteTime": {
     "end_time": "2018-08-17T00:45:02.264921Z",
     "start_time": "2018-08-17T00:45:02.261784Z"
    }
   },
   "outputs": [],
   "source": [
    "cafe_grid_info = '/OSM/CBR/OA_DCFP/work/squ027/squire_scratch/projects/cafe_hybrid_to_isobaric/shared/cafe_grid_info.nc3.nc '"
   ]
  },
  {
   "cell_type": "markdown",
   "metadata": {},
   "source": [
    "## Get list of files to convert"
   ]
  },
  {
   "cell_type": "code",
   "execution_count": 12,
   "metadata": {
    "ExecuteTime": {
     "end_time": "2018-08-17T00:45:10.128777Z",
     "start_time": "2018-08-17T00:45:02.267598Z"
    }
   },
   "outputs": [
    {
     "name": "stdout",
     "output_type": "stream",
     "text": [
      "['/OSM/CBR/OA_DCFP/data1/model_output/CAFE/forecasts/f1/hybrid/yr2003/mn1/OUTPUT.1/atmos_daily_2003_01_01.nc', '/OSM/CBR/OA_DCFP/data1/model_output/CAFE/forecasts/f1/hybrid/yr2003/mn1/OUTPUT.1/atmos_daily_2004_01_01.nc', '/OSM/CBR/OA_DCFP/data1/model_output/CAFE/forecasts/f1/hybrid/yr2003/mn1/OUTPUT.1/atmos_daily_2005_01_01.nc', '/OSM/CBR/OA_DCFP/data1/model_output/CAFE/forecasts/f1/hybrid/yr2003/mn1/OUTPUT.1/atmos_daily_2006_01_01.nc', '/OSM/CBR/OA_DCFP/data1/model_output/CAFE/forecasts/f1/hybrid/yr2003/mn1/OUTPUT.1/atmos_daily_2007_01_01.nc', '/OSM/CBR/OA_DCFP/data1/model_output/CAFE/forecasts/f1/hybrid/yr2003/mn1/OUTPUT.1/atmos_daily_2008_01_01.nc']\n"
     ]
    }
   ],
   "source": [
    "years = np.arange(2003,2004)\n",
    "months = np.arange(1,2)\n",
    "ensembles = np.arange(1,2)\n",
    "folder = '/OSM/CBR/OA_DCFP/data1/model_output/CAFE/forecasts/f1/hybrid/'\n",
    "files = 'atmos_daily*01.nc'\n",
    "\n",
    "filelist = []\n",
    "for year, month, ensemble in itertools.product(years, months, ensembles):\n",
    "    filelist.append(sorted(glob.glob(folder + 'yr' + str(year) \n",
    "                                            + '/mn' + str(month) \n",
    "                                            + '/OUTPUT.' + str(ensemble) \n",
    "                                            + '/' + files)))\n",
    "    \n",
    "filelist = list(itertools.chain.from_iterable(filelist))\n",
    "\n",
    "print(filelist)"
   ]
  },
  {
   "cell_type": "markdown",
   "metadata": {},
   "source": [
    "## Levels to interpolate to"
   ]
  },
  {
   "cell_type": "code",
   "execution_count": 13,
   "metadata": {
    "ExecuteTime": {
     "end_time": "2018-08-17T00:45:10.135312Z",
     "start_time": "2018-08-17T00:45:10.131781Z"
    }
   },
   "outputs": [],
   "source": [
    "levels = [20000, 30000, 40000, 45000, 50000, 55000, 60000, 70000, 85000, 100000]"
   ]
  },
  {
   "cell_type": "markdown",
   "metadata": {},
   "source": [
    "## Loop over each file and interpolate"
   ]
  },
  {
   "cell_type": "code",
   "execution_count": 34,
   "metadata": {
    "ExecuteTime": {
     "start_time": "2018-08-17T00:45:15.204Z"
    },
    "scrolled": true
   },
   "outputs": [
    {
     "name": "stdout",
     "output_type": "stream",
     "text": [
      "Current Working Directory= /OSM/CBR/OA_DCFP/work/col414/cafepp\n",
      "Current Working Directory= /OSM/CBR/OA_DCFP/work/col414/cafepp\n",
      "/OSM/CBR/OA_DCFP/data1/model_output/CAFE/forecasts/f1/hybrid/yr2003/mn1/OUTPUT.1/atmos_daily_2003_01_01.nc\n",
      "/OSM/CBR/OA_DCFP/data1/col414/atmos_daily_2003_01_01.nc\n",
      "/OSM/CBR/OA_DCFP/data1/col414/atmos_daily_2003_01_01.plevel.nc\n",
      "/OSM/CBR/OA_DCFP/work/squ027/squire_scratch/projects/cafe_hybrid_to_isobaric/test/plevel.sh -a -i /OSM/CBR/OA_DCFP/data1/col414/atmos_daily_2003_01_01.nc -o /OSM/CBR/OA_DCFP/data1/col414/atmos_daily_2003_01_01.plevel.nc -p \"20000 30000 40000 45000 50000 55000 60000 70000 85000 100000\" hght\n"
     ]
    },
    {
     "ename": "SystemExit",
     "evalue": "STOP!:jupyter_notebook line number: 60",
     "output_type": "error",
     "traceback": [
      "An exception has occurred, use %tb to see the full traceback.\n",
      "\u001b[0;31mSystemExit\u001b[0m\u001b[0;31m:\u001b[0m STOP!:jupyter_notebook line number: 60\n"
     ]
    },
    {
     "name": "stderr",
     "output_type": "stream",
     "text": [
      "/OSM/CBR/OA_DCFP/apps/col414/anaconda3/envs/FERRET/lib/python3.6/site-packages/IPython/core/interactiveshell.py:2969: UserWarning: To exit: use 'exit', 'quit', or Ctrl-D.\n",
      "  warn(\"To exit: use 'exit', 'quit', or Ctrl-D.\", stacklevel=1)\n"
     ]
    }
   ],
   "source": [
    "import inspect\n",
    "import os\n",
    "import shutil\n",
    "\n",
    "__file__='jupyter_notebook' #this can be deleted when written to a python script and loaded as module.\n",
    "\n",
    "rundir='/OSM/CBR/OA_DCFP/work/col414/cafepp'\n",
    "\n",
    "print('Current Working Directory=',os.getcwd())\n",
    "\n",
    "#odir='/OSM/CBR/OA_DCFP/work/col414/cafepp'\n",
    "tmpdir='/OSM/CBR/OA_DCFP/data1/col414'\n",
    "\n",
    "os.chdir(rundir)\n",
    "\n",
    "print('Current Working Directory=',os.getcwd())\n",
    "\n",
    "for file in filelist:\n",
    "    tmpfile=tmpdir+'/'+file.split('/')[-1]\n",
    "    print(file)\n",
    "    print(tmpfile)\n",
    "    \n",
    "\n",
    "#     shutil.copyfile(file,tmpfile)\n",
    "    #print(file.split('/')[-1])\n",
    "    # Add ak and bk fields to atmospheric output files -----\n",
    "#     command = '/apps/nco/4.4.4/bin/ncks -A -v ak,bk,zsurf ' + cafe_grid_info + newfile\n",
    "#     print(command)\n",
    "#     out = subprocess.call(command, shell=True)\n",
    "#     if (out != 0) & (out != 1):\n",
    "#         print('Failed to add alphas and betas:')\n",
    "#         print(file, '\\n')\n",
    "        \n",
    "        \n",
    "    #time.sleep(1.0) \n",
    "    \n",
    "    # Rename ak with pk as required by PLEV executable -----\n",
    "#     command = '/apps/nco/4.4.4/bin/ncrename -v ak,pk ' + tmpfile\n",
    "#     print(command)\n",
    "#     out = subprocess.call(command, shell=True)\n",
    "#     if (out != 0) & (out != 1):\n",
    "#         print('Failed to rename alpha:')\n",
    "#         print(file, '\\n')\n",
    "        \n",
    "    outfile=tmpfile.split('.nc')[0]+'.plevel.nc'\n",
    "    \n",
    "    print(outfile)\n",
    "    \n",
    "    if(os.path.exists(outfile)):\n",
    "       os.remove(outfile)\n",
    "    \n",
    "    # Perform the interpolation -----\n",
    "    command = '/OSM/CBR/OA_DCFP/work/squ027/squire_scratch/projects/cafe_hybrid_to_isobaric/test/plevel.sh -a -i ' + tmpfile + \\\n",
    "              ' -o ' + outfile + \\\n",
    "              ' -p ' + '\"' + ' '.join(map(str, levels)) + '\"' + \\\n",
    "              ' hght'\n",
    "    print(command)\n",
    "       \n",
    "    out = subprocess.call(command, shell=True)\n",
    "#     out = subprocess.run(command, shell=True, capture_output=True)\n",
    "#     out = subprocess.run(command, shell=True, stderr=subprocess.STDOUT)\n",
    "       \n",
    "    raise SystemExit('STOP!:'+__file__+' line number: '+str(inspect.stack()[0][2]))\n",
    "\n",
    "    if (out != 0) & (out != 1):\n",
    "        print(f'Regridding failed, error {out}:')\n",
    "        print(file, '\\n')\n",
    "    \n",
    "    #time.sleep(1.0) \n",
    "    \n",
    "    # Convert to netcdf-4 -----\n",
    "    command = 'ncks -4 -L 1 ' + file[:file.index('.nc')] + '.tmp' + file[file.index('.nc'):] + ' ' \\\n",
    "                              + file[:file.index('.nc')] + '.plevel' + file[file.index('.nc'):]\n",
    "    out = subprocess.call(command, shell=True)\n",
    "    if (out != 0) & (out != 1):\n",
    "        print('Failed to convert to netcdf-4:')\n",
    "        print(file, '\\n')\n",
    "    \n",
    "    #time.sleep(1.0) \n",
    "        \n",
    "    # Delete temporary file -----\n",
    "    command = 'rm -r ' + file[:file.index('.nc')] + '.tmp' + file[file.index('.nc'):]\n",
    "    out = subprocess.call(command, shell=True)"
   ]
  },
  {
   "cell_type": "code",
   "execution_count": 51,
   "metadata": {},
   "outputs": [
    {
     "name": "stdout",
     "output_type": "stream",
     "text": [
      "/OSM/CBR/OA_DCFP/work/col414/cafepp/plevel_col414.bash -a -i /OSM/CBR/OA_DCFP/data1/col414/atmos_daily_2003_01_01.nc -o /OSM/CBR/OA_DCFP/data1/col414/atmos_daily_2003_01_01.plevel.nc\n"
     ]
    }
   ],
   "source": [
    "import sys\n",
    "import shlex\n",
    "from subprocess import Popen, PIPE\n",
    "\n",
    "command='/OSM/CBR/OA_DCFP/work/col414/cafepp/plevel_col414.bash -a -i /OSM/CBR/OA_DCFP/data1/col414/atmos_daily_2003_01_01.nc -o /OSM/CBR/OA_DCFP/data1/col414/atmos_daily_2003_01_01.plevel.nc'\n",
    "print(command)\n",
    "\n",
    "def get_exitcode_stdout_stderr(cmd):\n",
    "    \"\"\"\n",
    "    Execute the external command and get its exitcode, stdout and stderr.\n",
    "    \"\"\"\n",
    "    args = shlex.split(cmd)\n",
    " \n",
    "    proc = Popen(args, stdout=PIPE, stderr=PIPE)\n",
    "    out, err = proc.communicate()\n",
    "    exitcode = proc.returncode\n",
    "    #\n",
    "    return exitcode, out, err"
   ]
  },
  {
   "cell_type": "code",
   "execution_count": 59,
   "metadata": {},
   "outputs": [
    {
     "name": "stdout",
     "output_type": "stream",
     "text": [
      "Current Working Directory= /OSM/CBR/OA_DCFP/work/col414/cafepp\n"
     ]
    }
   ],
   "source": [
    "print('Current Working Directory=',os.getcwd())\n",
    "\n",
    "exitcode, out, err = get_exitcode_stdout_stderr(command)\n",
    "\n",
    "# status = subprocess.call(command, shell=True)\n",
    "\n",
    "# print(status)"
   ]
  },
  {
   "cell_type": "code",
   "execution_count": 60,
   "metadata": {},
   "outputs": [
    {
     "name": "stdout",
     "output_type": "stream",
     "text": [
      "0\n"
     ]
    }
   ],
   "source": [
    "print(exitcode)"
   ]
  },
  {
   "cell_type": "code",
   "execution_count": 61,
   "metadata": {},
   "outputs": [
    {
     "name": "stdout",
     "output_type": "stream",
     "text": [
      "b'hello\\nitime =       1\\nitime =       2\\nitime =       3\\nitime =       4\\nitime =       5\\nitime =       6\\nitime =       7\\nitime =       8\\nitime =       9\\nitime =      10\\nitime =      11\\nitime =      12\\nitime =      13\\nitime =      14\\nitime =      15\\nitime =      16\\nitime =      17\\nitime =      18\\nitime =      19\\nitime =      20\\nitime =      21\\nitime =      22\\nitime =      23\\nitime =      24\\nitime =      25\\nitime =      26\\nitime =      27\\nitime =      28\\nitime =      29\\nitime =      30\\nitime =      31\\nitime =      32\\nitime =      33\\nitime =      34\\nitime =      35\\nitime =      36\\nitime =      37\\nitime =      38\\nitime =      39\\nitime =      40\\nitime =      41\\nitime =      42\\nitime =      43\\nitime =      44\\nitime =      45\\nitime =      46\\nitime =      47\\nitime =      48\\nitime =      49\\nitime =      50\\nitime =      51\\nitime =      52\\nitime =      53\\nitime =      54\\nitime =      55\\nitime =      56\\nitime =      57\\nitime =      58\\nitime =      59\\nitime =      60\\nitime =      61\\nitime =      62\\nitime =      63\\nitime =      64\\nitime =      65\\nitime =      66\\nitime =      67\\nitime =      68\\nitime =      69\\nitime =      70\\nitime =      71\\nitime =      72\\nitime =      73\\nitime =      74\\nitime =      75\\nitime =      76\\nitime =      77\\nitime =      78\\nitime =      79\\nitime =      80\\nitime =      81\\nitime =      82\\nitime =      83\\nitime =      84\\nitime =      85\\nitime =      86\\nitime =      87\\nitime =      88\\nitime =      89\\nitime =      90\\nitime =      91\\nitime =      92\\nitime =      93\\nitime =      94\\nitime =      95\\nitime =      96\\nitime =      97\\nitime =      98\\nitime =      99\\nitime =     100\\nitime =     101\\nitime =     102\\nitime =     103\\nitime =     104\\nitime =     105\\nitime =     106\\nitime =     107\\nitime =     108\\nitime =     109\\nitime =     110\\nitime =     111\\nitime =     112\\nitime =     113\\nitime =     114\\nitime =     115\\nitime =     116\\nitime =     117\\nitime =     118\\nitime =     119\\nitime =     120\\nitime =     121\\nitime =     122\\nitime =     123\\nitime =     124\\nitime =     125\\nitime =     126\\nitime =     127\\nitime =     128\\nitime =     129\\nitime =     130\\nitime =     131\\nitime =     132\\nitime =     133\\nitime =     134\\nitime =     135\\nitime =     136\\nitime =     137\\nitime =     138\\nitime =     139\\nitime =     140\\nitime =     141\\nitime =     142\\nitime =     143\\nitime =     144\\nitime =     145\\nitime =     146\\nitime =     147\\nitime =     148\\nitime =     149\\nitime =     150\\nitime =     151\\nitime =     152\\nitime =     153\\nitime =     154\\nitime =     155\\nitime =     156\\nitime =     157\\nitime =     158\\nitime =     159\\nitime =     160\\nitime =     161\\nitime =     162\\nitime =     163\\nitime =     164\\nitime =     165\\nitime =     166\\nitime =     167\\nitime =     168\\nitime =     169\\nitime =     170\\nitime =     171\\nitime =     172\\nitime =     173\\nitime =     174\\nitime =     175\\nitime =     176\\nitime =     177\\nitime =     178\\nitime =     179\\nitime =     180\\nitime =     181\\nitime =     182\\nitime =     183\\nitime =     184\\nitime =     185\\nitime =     186\\nitime =     187\\nitime =     188\\nitime =     189\\nitime =     190\\nitime =     191\\nitime =     192\\nitime =     193\\nitime =     194\\nitime =     195\\nitime =     196\\nitime =     197\\nitime =     198\\nitime =     199\\nitime =     200\\nitime =     201\\nitime =     202\\nitime =     203\\nitime =     204\\nitime =     205\\nitime =     206\\nitime =     207\\nitime =     208\\nitime =     209\\nitime =     210\\nitime =     211\\nitime =     212\\nitime =     213\\nitime =     214\\nitime =     215\\nitime =     216\\nitime =     217\\nitime =     218\\nitime =     219\\nitime =     220\\nitime =     221\\nitime =     222\\nitime =     223\\nitime =     224\\nitime =     225\\nitime =     226\\nitime =     227\\nitime =     228\\nitime =     229\\nitime =     230\\nitime =     231\\nitime =     232\\nitime =     233\\nitime =     234\\nitime =     235\\nitime =     236\\nitime =     237\\nitime =     238\\nitime =     239\\nitime =     240\\nitime =     241\\nitime =     242\\nitime =     243\\nitime =     244\\nitime =     245\\nitime =     246\\nitime =     247\\nitime =     248\\nitime =     249\\nitime =     250\\nitime =     251\\nitime =     252\\nitime =     253\\nitime =     254\\nitime =     255\\nitime =     256\\nitime =     257\\nitime =     258\\nitime =     259\\nitime =     260\\nitime =     261\\nitime =     262\\nitime =     263\\nitime =     264\\nitime =     265\\nitime =     266\\nitime =     267\\nitime =     268\\nitime =     269\\nitime =     270\\nitime =     271\\nitime =     272\\nitime =     273\\nitime =     274\\nitime =     275\\nitime =     276\\nitime =     277\\nitime =     278\\nitime =     279\\nitime =     280\\nitime =     281\\nitime =     282\\nitime =     283\\nitime =     284\\nitime =     285\\nitime =     286\\nitime =     287\\nitime =     288\\nitime =     289\\nitime =     290\\nitime =     291\\nitime =     292\\nitime =     293\\nitime =     294\\nitime =     295\\nitime =     296\\nitime =     297\\nitime =     298\\nitime =     299\\nitime =     300\\nitime =     301\\nitime =     302\\nitime =     303\\nitime =     304\\nitime =     305\\nitime =     306\\nitime =     307\\nitime =     308\\nitime =     309\\nitime =     310\\nitime =     311\\nitime =     312\\nitime =     313\\nitime =     314\\nitime =     315\\nitime =     316\\nitime =     317\\nitime =     318\\nitime =     319\\nitime =     320\\nitime =     321\\nitime =     322\\nitime =     323\\nitime =     324\\nitime =     325\\nitime =     326\\nitime =     327\\nitime =     328\\nitime =     329\\nitime =     330\\nitime =     331\\nitime =     332\\nitime =     333\\nitime =     334\\nitime =     335\\nitime =     336\\nitime =     337\\nitime =     338\\nitime =     339\\nitime =     340\\nitime =     341\\nitime =     342\\nitime =     343\\nitime =     344\\nitime =     345\\nitime =     346\\nitime =     347\\nitime =     348\\nitime =     349\\nitime =     350\\nitime =     351\\nitime =     352\\nitime =     353\\nitime =     354\\nitime =     355\\nitime =     356\\nitime =     357\\nitime =     358\\nitime =     359\\nitime =     360\\nitime =     361\\nitime =     362\\nitime =     363\\nitime =     364\\nitime =     365\\n'\n"
     ]
    }
   ],
   "source": [
    "print(out)"
   ]
  },
  {
   "cell_type": "code",
   "execution_count": 55,
   "metadata": {},
   "outputs": [
    {
     "name": "stdout",
     "output_type": "stream",
     "text": [
      "b''\n"
     ]
    }
   ],
   "source": [
    "print(err)"
   ]
  },
  {
   "cell_type": "code",
   "execution_count": null,
   "metadata": {},
   "outputs": [],
   "source": []
  }
 ],
 "metadata": {
  "kernelspec": {
   "display_name": "Python [default]",
   "language": "python",
   "name": "python3"
  },
  "language_info": {
   "codemirror_mode": {
    "name": "ipython",
    "version": 3
   },
   "file_extension": ".py",
   "mimetype": "text/x-python",
   "name": "python",
   "nbconvert_exporter": "python",
   "pygments_lexer": "ipython3",
   "version": "3.6.6"
  }
 },
 "nbformat": 4,
 "nbformat_minor": 2
}
