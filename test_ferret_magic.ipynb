{
 "cells": [
  {
   "cell_type": "markdown",
   "metadata": {},
   "source": [
    "# \n",
    "\n",
    "# http://stuartmumford.uk/blog/jupyter-notebook-and-conda.html\n",
    "\n",
    "# last edited 17 September 2018"
   ]
  },
  {
   "cell_type": "code",
   "execution_count": 1,
   "metadata": {},
   "outputs": [
    {
     "data": {
      "application/javascript": [
       "IPython.OutputArea.prototype._should_scroll = function(lines) {\n",
       "    return false;\n",
       "}"
      ],
      "text/plain": [
       "<IPython.core.display.Javascript object>"
      ]
     },
     "metadata": {},
     "output_type": "display_data"
    }
   ],
   "source": [
    "%%javascript\n",
    "IPython.OutputArea.prototype._should_scroll = function(lines) {\n",
    "    return false;\n",
    "}"
   ]
  },
  {
   "cell_type": "code",
   "execution_count": 4,
   "metadata": {},
   "outputs": [
    {
     "ename": "TabError",
     "evalue": "inconsistent use of tabs and spaces in indentation (ferretmagic.py, line 242)",
     "output_type": "error",
     "traceback": [
      "Traceback \u001b[0;36m(most recent call last)\u001b[0m:\n",
      "  File \u001b[1;32m\"/OSM/CBR/OA_DCFP/apps/col414/anaconda3/envs/FERRET/lib/python3.6/site-packages/IPython/core/interactiveshell.py\"\u001b[0m, line \u001b[1;32m2961\u001b[0m, in \u001b[1;35mrun_code\u001b[0m\n    exec(code_obj, self.user_global_ns, self.user_ns)\n",
      "  File \u001b[1;32m\"<ipython-input-4-12afd7a1e32d>\"\u001b[0m, line \u001b[1;32m3\u001b[0m, in \u001b[1;35m<module>\u001b[0m\n    get_ipython().run_line_magic('load_ext', 'ferretmagic')\n",
      "  File \u001b[1;32m\"/OSM/CBR/OA_DCFP/apps/col414/anaconda3/envs/FERRET/lib/python3.6/site-packages/IPython/core/interactiveshell.py\"\u001b[0m, line \u001b[1;32m2131\u001b[0m, in \u001b[1;35mrun_line_magic\u001b[0m\n    result = fn(*args,**kwargs)\n",
      "  File \u001b[1;32m\"<decorator-gen-65>\"\u001b[0m, line \u001b[1;32m2\u001b[0m, in \u001b[1;35mload_ext\u001b[0m\n",
      "  File \u001b[1;32m\"/OSM/CBR/OA_DCFP/apps/col414/anaconda3/envs/FERRET/lib/python3.6/site-packages/IPython/core/magic.py\"\u001b[0m, line \u001b[1;32m187\u001b[0m, in \u001b[1;35m<lambda>\u001b[0m\n    call = lambda f, *a, **k: f(*a, **k)\n",
      "  File \u001b[1;32m\"/OSM/CBR/OA_DCFP/apps/col414/anaconda3/envs/FERRET/lib/python3.6/site-packages/IPython/core/magics/extension.py\"\u001b[0m, line \u001b[1;32m33\u001b[0m, in \u001b[1;35mload_ext\u001b[0m\n    res = self.shell.extension_manager.load_extension(module_str)\n",
      "  File \u001b[1;32m\"/OSM/CBR/OA_DCFP/apps/col414/anaconda3/envs/FERRET/lib/python3.6/site-packages/IPython/core/extensions.py\"\u001b[0m, line \u001b[1;32m85\u001b[0m, in \u001b[1;35mload_extension\u001b[0m\n    mod = import_module(module_str)\n",
      "  File \u001b[1;32m\"/OSM/CBR/OA_DCFP/apps/col414/anaconda3/envs/FERRET/lib/python3.6/importlib/__init__.py\"\u001b[0m, line \u001b[1;32m126\u001b[0m, in \u001b[1;35mimport_module\u001b[0m\n    return _bootstrap._gcd_import(name[level:], package, level)\n",
      "  File \u001b[1;32m\"<frozen importlib._bootstrap>\"\u001b[0m, line \u001b[1;32m994\u001b[0m, in \u001b[1;35m_gcd_import\u001b[0m\n",
      "  File \u001b[1;32m\"<frozen importlib._bootstrap>\"\u001b[0m, line \u001b[1;32m971\u001b[0m, in \u001b[1;35m_find_and_load\u001b[0m\n",
      "  File \u001b[1;32m\"<frozen importlib._bootstrap>\"\u001b[0m, line \u001b[1;32m955\u001b[0m, in \u001b[1;35m_find_and_load_unlocked\u001b[0m\n",
      "  File \u001b[1;32m\"<frozen importlib._bootstrap>\"\u001b[0m, line \u001b[1;32m665\u001b[0m, in \u001b[1;35m_load_unlocked\u001b[0m\n",
      "  File \u001b[1;32m\"<frozen importlib._bootstrap_external>\"\u001b[0m, line \u001b[1;32m678\u001b[0m, in \u001b[1;35mexec_module\u001b[0m\n",
      "  File \u001b[1;32m\"<frozen importlib._bootstrap>\"\u001b[0m, line \u001b[1;32m219\u001b[0m, in \u001b[1;35m_call_with_frames_removed\u001b[0m\n",
      "\u001b[0;36m  File \u001b[0;32m\"/OSM/CBR/OA_DCFP/apps/col414/anaconda3/envs/FERRET/lib/python3.6/site-packages/ferretmagic/__init__.py\"\u001b[0;36m, line \u001b[0;32m1\u001b[0;36m, in \u001b[0;35m<module>\u001b[0;36m\u001b[0m\n\u001b[0;31m    from .ferretmagic import *\u001b[0m\n",
      "\u001b[0;36m  File \u001b[0;32m\"/OSM/CBR/OA_DCFP/apps/col414/anaconda3/envs/FERRET/lib/python3.6/site-packages/ferretmagic/ferretmagic.py\"\u001b[0;36m, line \u001b[0;32m242\u001b[0m\n\u001b[0;31m    else:\u001b[0m\n\u001b[0m          ^\u001b[0m\n\u001b[0;31mTabError\u001b[0m\u001b[0;31m:\u001b[0m inconsistent use of tabs and spaces in indentation\n"
     ]
    }
   ],
   "source": [
    "import pyferret\n",
    "\n",
    "%load_ext ferretmagic\n"
   ]
  },
  {
   "cell_type": "code",
   "execution_count": null,
   "metadata": {},
   "outputs": [],
   "source": []
  }
 ],
 "metadata": {
  "kernelspec": {
   "display_name": "Python [conda env:cafepp_36_new]",
   "language": "python",
   "name": "conda-env-cafepp_36_new-py"
  },
  "language_info": {
   "codemirror_mode": {
    "name": "ipython",
    "version": 3
   },
   "file_extension": ".py",
   "mimetype": "text/x-python",
   "name": "python",
   "nbconvert_exporter": "python",
   "pygments_lexer": "ipython3",
   "version": "3.6.6"
  }
 },
 "nbformat": 4,
 "nbformat_minor": 2
}
