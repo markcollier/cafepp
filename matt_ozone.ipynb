{
 "cells": [
  {
   "cell_type": "markdown",
   "metadata": {},
   "source": [
    "# matt_ozone: take CMIP6 version and make it like CMIP5 for reading into coupled model.\n",
    "\n",
    "# last edited 5 September 2018"
   ]
  },
  {
   "cell_type": "code",
   "execution_count": 1,
   "metadata": {},
   "outputs": [
    {
     "data": {
      "application/javascript": [
       "IPython.OutputArea.prototype._should_scroll = function(lines) {\n",
       "    return false;\n",
       "}"
      ],
      "text/plain": [
       "<IPython.core.display.Javascript object>"
      ]
     },
     "metadata": {},
     "output_type": "display_data"
    }
   ],
   "source": [
    "%%javascript\n",
    "IPython.OutputArea.prototype._should_scroll = function(lines) {\n",
    "    return false;\n",
    "}"
   ]
  },
  {
   "cell_type": "code",
   "execution_count": 3,
   "metadata": {},
   "outputs": [
    {
     "name": "stdout",
     "output_type": "stream",
     "text": [
      "BEGIN\n",
      "Current Working Directory= /home/599/mac599/decadal\n",
      "hostname= raijin4\n",
      "Current Working Directory= /short/v19/mac599/ao_am2/sep18a\n",
      "\u001b[91mProcessing CMIP5 monthly ozone ...\u001b[0m\n",
      "n_data_funcs.init: no ensembles in this example.\n",
      "calculate_filedatetime_info: case 1: no ensembles, one input file.\n"
     ]
    },
    {
     "ename": "ValueError",
     "evalue": "too many values to unpack (expected 4)",
     "output_type": "error",
     "traceback": [
      "\u001b[0;31m---------------------------------------------------------------------------\u001b[0m",
      "\u001b[0;31mValueError\u001b[0m                                Traceback (most recent call last)",
      "\u001b[0;32mjupyter_notebook\u001b[0m in \u001b[0;36m<module>\u001b[0;34m()\u001b[0m\n\u001b[1;32m     47\u001b[0m \u001b[0mcmip5o3_monthly_files\u001b[0m\u001b[0;34m.\u001b[0m\u001b[0mget_latlon_info\u001b[0m\u001b[0;34m(\u001b[0m\u001b[0mDiag\u001b[0m\u001b[0;34m=\u001b[0m\u001b[0;32mFalse\u001b[0m\u001b[0;34m)\u001b[0m\u001b[0;34m\u001b[0m\u001b[0m\n\u001b[1;32m     48\u001b[0m \u001b[0;34m\u001b[0m\u001b[0m\n\u001b[0;32m---> 49\u001b[0;31m \u001b[0mcmip5p3_monthly_o3_from_monthly\u001b[0m \u001b[0;34m=\u001b[0m \u001b[0mcmip5o3_monthly_files\u001b[0m\u001b[0;34m.\u001b[0m\u001b[0mcalculate_quantity\u001b[0m\u001b[0;34m(\u001b[0m\u001b[0;34m'dummy'\u001b[0m\u001b[0;34m,\u001b[0m \u001b[0mquantity\u001b[0m\u001b[0;34m=\u001b[0m\u001b[0;34m'latlon_region,0,36,0,71,0,32'\u001b[0m\u001b[0;34m)\u001b[0m\u001b[0;34m\u001b[0m\u001b[0m\n\u001b[0m\u001b[1;32m     50\u001b[0m \u001b[0;34m\u001b[0m\u001b[0m\n\u001b[1;32m     51\u001b[0m \u001b[0mcmip5_o3_monthlyclimatology_from_monthly\u001b[0m\u001b[0;34m,\u001b[0m \u001b[0mcmip5_o3_monthlyanomaly_from_monthly\u001b[0m \u001b[0;34m=\u001b[0m \u001b[0mcmip5o3_monthly_files\u001b[0m\u001b[0;34m.\u001b[0m\u001b[0mmonthly_clim_anom\u001b[0m\u001b[0;34m(\u001b[0m   \u001b[0mDiag\u001b[0m\u001b[0;34m=\u001b[0m\u001b[0;32mFalse\u001b[0m\u001b[0;34m,\u001b[0m \u001b[0minput\u001b[0m\u001b[0;34m=\u001b[0m\u001b[0mcmip5o3_monthly_o3_from_monthly\u001b[0m\u001b[0;34m,\u001b[0m \u001b[0mAnnOut\u001b[0m\u001b[0;34m=\u001b[0m\u001b[0;32mFalse\u001b[0m\u001b[0;34m,\u001b[0m \u001b[0mZeroClim\u001b[0m\u001b[0;34m=\u001b[0m\u001b[0;32mTrue\u001b[0m\u001b[0;34m)\u001b[0m\u001b[0;34m\u001b[0m\u001b[0m\n",
      "\u001b[0;32m~/decadal/n_data_funcs.py\u001b[0m in \u001b[0;36mcalculate_quantity\u001b[0;34m(self, instance, **kwargs)\u001b[0m\n\u001b[1;32m    861\u001b[0m             \u001b[0mself\u001b[0m\u001b[0;34m.\u001b[0m\u001b[0mjmin\u001b[0m\u001b[0;34m,\u001b[0m\u001b[0mself\u001b[0m\u001b[0;34m.\u001b[0m\u001b[0mjmax\u001b[0m\u001b[0;34m,\u001b[0m\u001b[0mself\u001b[0m\u001b[0;34m.\u001b[0m\u001b[0mimin\u001b[0m\u001b[0;34m,\u001b[0m\u001b[0mself\u001b[0m\u001b[0;34m.\u001b[0m\u001b[0mimax\u001b[0m\u001b[0;34m=\u001b[0m\u001b[0;36m0\u001b[0m\u001b[0;34m,\u001b[0m\u001b[0mself\u001b[0m\u001b[0;34m.\u001b[0m\u001b[0mnlat\u001b[0m\u001b[0;34m,\u001b[0m\u001b[0;36m0\u001b[0m\u001b[0;34m,\u001b[0m\u001b[0mself\u001b[0m\u001b[0;34m.\u001b[0m\u001b[0mnlon\u001b[0m\u001b[0;34m\u001b[0m\u001b[0m\n\u001b[1;32m    862\u001b[0m           \u001b[0;32melse\u001b[0m\u001b[0;34m:\u001b[0m\u001b[0;34m\u001b[0m\u001b[0m\n\u001b[0;32m--> 863\u001b[0;31m             \u001b[0mself\u001b[0m\u001b[0;34m.\u001b[0m\u001b[0mjmin\u001b[0m\u001b[0;34m,\u001b[0m\u001b[0mself\u001b[0m\u001b[0;34m.\u001b[0m\u001b[0mjmax\u001b[0m\u001b[0;34m,\u001b[0m\u001b[0mself\u001b[0m\u001b[0;34m.\u001b[0m\u001b[0mimin\u001b[0m\u001b[0;34m,\u001b[0m\u001b[0mself\u001b[0m\u001b[0;34m.\u001b[0m\u001b[0mimax\u001b[0m\u001b[0;34m=\u001b[0m\u001b[0mtuple\u001b[0m\u001b[0;34m(\u001b[0m\u001b[0;34m[\u001b[0m\u001b[0mint\u001b[0m\u001b[0;34m(\u001b[0m\u001b[0mx\u001b[0m\u001b[0;34m)\u001b[0m \u001b[0;32mfor\u001b[0m \u001b[0mx\u001b[0m \u001b[0;32min\u001b[0m \u001b[0mvalue_split\u001b[0m\u001b[0;34m[\u001b[0m\u001b[0;36m1\u001b[0m\u001b[0;34m:\u001b[0m\u001b[0;34m:\u001b[0m\u001b[0;34m]\u001b[0m\u001b[0;34m]\u001b[0m\u001b[0;34m)\u001b[0m\u001b[0;34m\u001b[0m\u001b[0m\n\u001b[0m\u001b[1;32m    864\u001b[0m           \u001b[0;32mif\u001b[0m\u001b[0;34m(\u001b[0m\u001b[0mself\u001b[0m\u001b[0;34m.\u001b[0m\u001b[0mnfiles\u001b[0m\u001b[0;34m>\u001b[0m\u001b[0;36m1\u001b[0m\u001b[0;34m)\u001b[0m\u001b[0;34m:\u001b[0m \u001b[0;31m#ensembles\u001b[0m\u001b[0;34m\u001b[0m\u001b[0m\n\u001b[1;32m    865\u001b[0m             \u001b[0mvar_shape\u001b[0m\u001b[0;34m=\u001b[0m\u001b[0mself\u001b[0m\u001b[0;34m.\u001b[0m\u001b[0mifhN\u001b[0m\u001b[0;34m[\u001b[0m\u001b[0;36m0\u001b[0m\u001b[0;34m]\u001b[0m\u001b[0;34m.\u001b[0m\u001b[0mvariables\u001b[0m\u001b[0;34m[\u001b[0m\u001b[0mself\u001b[0m\u001b[0;34m.\u001b[0m\u001b[0minput_var_name\u001b[0m\u001b[0;34m]\u001b[0m\u001b[0;34m.\u001b[0m\u001b[0mshape\u001b[0m\u001b[0;34m\u001b[0m\u001b[0m\n",
      "\u001b[0;31mValueError\u001b[0m: too many values to unpack (expected 4)"
     ]
    }
   ],
   "source": [
    "print('BEGIN')\n",
    "\n",
    "import socket\n",
    "import re\n",
    "import os\n",
    "import inspect\n",
    "import shutil\n",
    "\n",
    "__file__='jupyter_notebook' #this can be deleted when written to a python script and loaded as module.\n",
    "\n",
    "os.chdir('/home/599/mac599/decadal')\n",
    "\n",
    "print('Current Working Directory=',os.getcwd())\n",
    "\n",
    "from decadal_diag import \\\n",
    "  fractional_year_from_num2date, \\\n",
    "  generate_daily_month_indices, \\\n",
    "  get_timestamp_number, \\\n",
    "  fractional_year_from_num2date\n",
    "\n",
    "from n_data_funcs import n_data_funcs\n",
    "\n",
    "%matplotlib inline\n",
    "\n",
    "CRED = '\\033[91m'\n",
    "CEND = '\\033[0m'\n",
    "\n",
    "hostname=socket.gethostname()\n",
    "\n",
    "print('hostname=',hostname)\n",
    "\n",
    "os.chdir('/short/v19/mac599/ao_am2/sep18a')\n",
    "\n",
    "print('Current Working Directory=',os.getcwd())\n",
    "\n",
    "#===============================================================================\n",
    "\n",
    "cmip5_input_ozone=['/short/v19/mtc599/ao_am2/aug18b/INPUT/CM3_CMIP5_1850-2009_O3.nc'] #monthly data, all years 12 months. \n",
    "#pfull 0.017 -> 1000 (33 levels)\n",
    "\n",
    "cmip6_input_ozone=['/g/data1/v14/tok599/atmos_forcing/CMIP6/vmro3_input4MIPs_ozone_DAMIP_CCMI-hist-stratO3-1-0_gn_195001-199912.nc', \\\n",
    "             '/g/data1/v14/tok599/atmos_forcing/CMIP6/vmro3_input4MIPs_ozone_DAMIP_CCMI-hist-stratO3-1-0_gn_200001-201412.nc'] #monthly data, all years 12 months\n",
    "#plev 1000 -> 0.0001 (66 levels)\n",
    "\n",
    "tmp_dir='/short/v14/mac599'\n",
    "\n",
    "#===============================================================================\n",
    "\n",
    "print(CRED+'Processing CMIP5 monthly ozone ...'+CEND)\n",
    "\n",
    "cmip5o3_monthly_files=n_data_funcs(input_files=[cmip5_input_ozone], input_var_name='ozone')\n",
    "\n",
    "cmip5o3_monthly_files.calculate_filedatetime_info(calendar='noleap')\n",
    "\n",
    "cmip5o3_monthly_files.get_latlon_info(Diag=False)\n",
    "\n",
    "cmip5p3_monthly_o3_from_monthly = cmip5o3_monthly_files.calculate_quantity('dummy', quantity='latlon_region,0,36,0,71,0,32')\n",
    "\n",
    "cmip5_o3_monthlyclimatology_from_monthly, cmip5_o3_monthlyanomaly_from_monthly = cmip5o3_monthly_files.monthly_clim_anom( \\\n",
    "  Diag=False, input=cmip5o3_monthly_o3_from_monthly, AnnOut=False, ZeroClim=True)\n",
    "  \n",
    "print('cmip5_o3_monthlyanomaly_from_monthly.shape=',cmip5_o3_monthlyanomaly_from_monthly.shape)\n",
    "\n",
    "raise SystemExit('STOP!:'+__file__+' line number: '+str(inspect.stack()[0][2]))\n",
    "\n",
    "#===============================================================================\n",
    "\n",
    "cmip6_input_ozone_new=[] #need to create nc3 versions so that MDDataset works...\n",
    "for file in cmip6_input_ozone:\n",
    "  cmip6_input_ozone_new.append(tmp_dir+'/'+os.path.basename(file))\n",
    "  if(os.path.exists(file)):\n",
    "    if(not os.path.exists(tmp_dir+'/'+os.path.basename(file))):\n",
    "      #shutil.copy(file,tmp_dir+'/'+os.path.basename(file))\n",
    "      command='nccopy -k nc3 '+file+' '+tmp_dir+'/'+os.path.basename(file)\n",
    "      print('command=',command)\n",
    "      os.system(command)\n",
    "\n",
    "print('cmip6_input_ozone_new=',cmip6_input_ozone_new)\n",
    "\n",
    "#raise SystemExit('STOP!:'+__file__+' line number: '+str(inspect.stack()[0][2]))\n",
    "    \n",
    "#cmip6_input_ozone = cmip6_input_ozone_new #override\n",
    "\n",
    "print(CRED+'Processing CMIP6 monthly ozone ...'+CEND)\n",
    "\n",
    "cmip6o3_monthly_files=n_data_funcs(input_files=[cmip6_input_ozone_new], input_var_name='vmro3')\n",
    "\n",
    "cmip6o3_monthly_files.calculate_filedatetime_info(calendar='365_day')\n",
    "\n",
    "cmip6o3_monthly_files.get_latlon_info(Diag=False)\n",
    "\n",
    "cmip6p3_monthly_o3_from_monthly = cmip6o3_monthly_files.calculate_quantity('dummy', quantity='latlon_region,0,95,0,143,0,0')\n",
    "\n",
    "cmip6_o3_monthlyclimatology_from_monthly, cmip6_o3_monthlyanomaly_from_monthly = cmip6o3_monthly_files.monthly_clim_anom( \\\n",
    "  Diag=False, input=cmip6o3_monthly_o3_from_monthly, AnnOut=False, ZeroClim=True)\n",
    "  \n",
    "print('cmip6_o3_monthlyanomaly_from_monthly.shape=',cmip6_o3_monthlyanomaly_from_monthly.shape)\n",
    "  \n",
    "#raise SystemExit('STOP!:'+__file__+' line number: '+str(inspect.stack()[0][2]))\n",
    "  \n",
    "#===============================================================================\n",
    "#do some plots. Time-series as well as climatological ones at different pressure levels...\n",
    "\n",
    "#===============================================================================\n",
    "#rewrite CMIP6 files as one file, and make some structural changes - do minimum to enable model successful reading.\n",
    "\n",
    "#===============================================================================\n",
    "\n",
    "print('END')"
   ]
  },
  {
   "cell_type": "code",
   "execution_count": null,
   "metadata": {},
   "outputs": [],
   "source": []
  },
  {
   "cell_type": "code",
   "execution_count": null,
   "metadata": {},
   "outputs": [],
   "source": []
  }
 ],
 "metadata": {
  "kernelspec": {
   "display_name": "Python 3",
   "language": "python",
   "name": "python3"
  },
  "language_info": {
   "codemirror_mode": {
    "name": "ipython",
    "version": 3
   },
   "file_extension": ".py",
   "mimetype": "text/x-python",
   "name": "python",
   "nbconvert_exporter": "python",
   "pygments_lexer": "ipython3",
   "version": "3.6.5"
  }
 },
 "nbformat": 4,
 "nbformat_minor": 2
}
